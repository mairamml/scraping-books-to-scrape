{
  "nbformat": 4,
  "nbformat_minor": 0,
  "metadata": {
    "colab": {
      "provenance": [],
      "authorship_tag": "ABX9TyNZHHK2eGtuRZTIip8Nv2er",
      "include_colab_link": true
    },
    "kernelspec": {
      "name": "python3",
      "display_name": "Python 3"
    },
    "language_info": {
      "name": "python"
    }
  },
  "cells": [
    {
      "cell_type": "markdown",
      "metadata": {
        "id": "view-in-github",
        "colab_type": "text"
      },
      "source": [
        "<a href=\"https://colab.research.google.com/github/mairamml/scraping-books-to-scrape/blob/main/Scraping_Books_to_Scrape.ipynb\" target=\"_parent\"><img src=\"https://colab.research.google.com/assets/colab-badge.svg\" alt=\"Open In Colab\"/></a>"
      ]
    },
    {
      "cell_type": "markdown",
      "source": [
        "## Treinando web scrapping\n",
        "\n",
        "Nesse notebook está registrado um desafio de Análise de Dados em Python feito em equipe para processo de trainee da EJ."
      ],
      "metadata": {
        "id": "bqk3r4TZMzhj"
      }
    },
    {
      "cell_type": "markdown",
      "source": [
        "Os dados foram retirados do site próprio para webscrapping, o [books to scrape](https://books.toscrape.com)."
      ],
      "metadata": {
        "id": "6ftfQq85M7XN"
      }
    },
    {
      "cell_type": "code",
      "execution_count": 1,
      "metadata": {
        "id": "V-JOyb8NMvJc"
      },
      "outputs": [],
      "source": [
        "# Importando bibliotecas\n",
        "import requests\n",
        "from bs4 import BeautifulSoup"
      ]
    },
    {
      "cell_type": "markdown",
      "source": [
        "Scraping das informações:\n",
        "- Título\n",
        "- Descrição\n",
        "- Categoria\n",
        "- Preço\n",
        "- Avalicação"
      ],
      "metadata": {
        "id": "Ihq578vzN-eI"
      }
    },
    {
      "cell_type": "code",
      "source": [
        "books = []\n",
        "for i in range(1,11):\n",
        "  url = f\"https://books.toscrape.com/catalogue/page-{i}.html\"\n",
        "\n",
        "  # Acessa os dados do site\n",
        "  response_inicial = requests.get(url)\n",
        "  response_inicial.encoding = 'utf-8' # decodificando por conta de caracteres especiais\n",
        "  soup_inicial = BeautifulSoup(response_inicial.text, \"html.parser\")\n",
        "\n",
        "  # Gerando os links de cada livro na página atual\n",
        "  for link in soup_inicial.select('.product_pod h3 a'):\n",
        "    livro_url = \"https://books.toscrape.com/catalogue/\" + link.get('href')\n",
        "\n",
        "    # Acessa os dados do livro\n",
        "    response_livro = requests.get(livro_url)\n",
        "    response_livro.encoding = 'utf-8'\n",
        "    soup_livro = BeautifulSoup(response_livro.text, \"html.parser\")\n",
        "\n",
        "    # Capta os dados de interesse\n",
        "    titulo = soup_livro.find('h1').text\n",
        "    descricao = soup_livro.find('p', class_ = None)\n",
        "    if descricao:\n",
        "        descricao = descricao.text\n",
        "    else:\n",
        "        descricao = \"Descrição indisponível\"  # caso não haja descrição\n",
        "    categoria = soup_livro.find('ul', class_ = \"breadcrumb\").find_all('li')[-2].text.strip()\n",
        "    preco = soup_livro.find('p', class_ = 'price_color').text\n",
        "    preco = float(preco[1:])\n",
        "    avaliacao = soup_livro.find('p', class_ = 'star-rating')['class'][1]\n",
        "\n",
        "    # Adiciona os dados como um dicionário ao vetor de livros\n",
        "    books.append({\n",
        "            'Título': titulo,\n",
        "            'Descrição': descricao,\n",
        "            'Categoria': categoria,\n",
        "            'Preço': preco,\n",
        "            'Avaliação': avaliacao\n",
        "        })"
      ],
      "metadata": {
        "id": "PQlYYFyDNh-d"
      },
      "execution_count": null,
      "outputs": []
    },
    {
      "cell_type": "markdown",
      "source": [
        "Construção do DataFrame"
      ],
      "metadata": {
        "id": "sPL520n3OJ_3"
      }
    },
    {
      "cell_type": "code",
      "source": [
        "# Importando pandas para manipulação dos dados\n",
        "import pandas as pd\n",
        "\n",
        "df = pd.DataFrame(books)"
      ],
      "metadata": {
        "id": "f3X4MFmpOMUx"
      },
      "execution_count": 2,
      "outputs": []
    },
    {
      "cell_type": "code",
      "source": [
        "df.info()"
      ],
      "metadata": {
        "id": "Xj3uU5m4PUAn"
      },
      "execution_count": null,
      "outputs": []
    },
    {
      "cell_type": "code",
      "source": [
        "df.columns"
      ],
      "metadata": {
        "id": "Ot_uajbwPW4x"
      },
      "execution_count": null,
      "outputs": []
    },
    {
      "cell_type": "code",
      "source": [
        "df.head()"
      ],
      "metadata": {
        "id": "e6VvfQYkPV2D"
      },
      "execution_count": null,
      "outputs": []
    },
    {
      "cell_type": "markdown",
      "source": [
        "### Data Cleaning"
      ],
      "metadata": {
        "id": "LFCnZx1EOYbJ"
      }
    },
    {
      "cell_type": "code",
      "source": [
        "# Conferindo valores ausentes\n",
        "print(df.isnull().sum())\n",
        "\n",
        "# Conferindo se há duplicatas\n",
        "if df.duplicated().any():\n",
        "    n_duplicatas = df.duplicated(keep='first').sum()\n",
        "    df = df.drop_duplicates()  # Remove duplicatas\n",
        "    print(f\"\\nAs {n_duplicatas} duplicatas e foram excluídas.\")\n",
        "else:\n",
        "    print(\"\\nNão há duplicatas.\")\n",
        "\n",
        "# Converte a coluna da coluna 'Avaliação' para o tipo inteiro\n",
        "def converter_palavras_para_numeros(df, coluna):\n",
        "    palavra_para_numero = {\n",
        "        'One': 1,\n",
        "        'Two': 2,\n",
        "        'Three': 3,\n",
        "        'Four': 4,\n",
        "        'Five': 5\n",
        "    }\n",
        "    df[coluna] = df[coluna].map(palavra_para_numero)\n",
        "    return df\n",
        "#Aplicando a função no df\n",
        "df = converter_palavras_para_numeros(df, \"Avaliação\")\n",
        "\n",
        "# Função para tratar as categorias sem sentido no df\n",
        "def renomear_categorias_ausentes(df):\n",
        "    df['Categoria'] = df['Categoria'].replace(['Add a comment', 'Default'], 'Uncategorized')\n",
        "    return df\n",
        "#Aplicando no df\n",
        "df = renomear_categorias_ausentes(df)"
      ],
      "metadata": {
        "id": "Oe8KqeoVOYwv"
      },
      "execution_count": null,
      "outputs": []
    },
    {
      "cell_type": "code",
      "source": [
        "df.shape"
      ],
      "metadata": {
        "id": "vUuJF0KsPZ4O"
      },
      "execution_count": null,
      "outputs": []
    },
    {
      "cell_type": "markdown",
      "source": [
        "Agora que os dados foram processados, é possível iniciar a análise."
      ],
      "metadata": {
        "id": "f555kfksPbbI"
      }
    },
    {
      "cell_type": "markdown",
      "source": [
        "## Quantos livros existem em cada categoria?"
      ],
      "metadata": {
        "id": "L883DwG1PplY"
      }
    },
    {
      "cell_type": "code",
      "source": [
        "import matplotlib.pyplot as plt\n",
        "import plotly.express as px"
      ],
      "metadata": {
        "id": "zaheYZvBPhau"
      },
      "execution_count": 3,
      "outputs": []
    },
    {
      "cell_type": "code",
      "source": [
        "# Coletando e contando livros por categoria\n",
        "livros_por_categoria = df['Categoria'].value_counts()\n",
        "\n",
        "# Plotando o gráfico de barras\n",
        "plt.figure(figsize=(12, 6))\n",
        "plt.bar(livros_por_categoria.index, livros_por_categoria.values, color=\"green\", alpha=0.7)\n",
        "plt.title(\"Total de Livros por Categoria\")\n",
        "plt.xlabel(\"Categorias\")\n",
        "plt.ylabel(\"Quantidade\")\n",
        "plt.xticks(rotation=45, ha=\"right\")\n",
        "plt.grid(axis=\"y\", alpha=0.7)\n",
        "plt.tight_layout()\n",
        "plt.show()"
      ],
      "metadata": {
        "id": "9D4MDyFXPwUo"
      },
      "execution_count": null,
      "outputs": []
    },
    {
      "cell_type": "markdown",
      "source": [
        "É perceptível que existem muitos livros sem categoria definida e, também, muitos livros de categorias muito similares. Essa quantidade extensa de categorias prejudica a visualização no gráfico e atrapalha a análise."
      ],
      "metadata": {
        "id": "mD2gm2gQP1T-"
      }
    },
    {
      "cell_type": "markdown",
      "source": [
        "### Solução:\n",
        "Criar nova coluna 'Grupo' de categorias, para melhorar a análise geral da quantidade de livros."
      ],
      "metadata": {
        "id": "6z9tXiFGQIaS"
      }
    },
    {
      "cell_type": "code",
      "source": [
        "categorias_livros = {\n",
        "    \"Ficção Literária\": [\n",
        "        \"Fiction\",\n",
        "        \"Classics\",\n",
        "        \"Novels\",\n",
        "        \"Short Stories\",\n",
        "        \"Contemporary\",\n",
        "        \"Adult Fiction\",\n",
        "        \"Womens Fiction\"\n",
        "    ],\n",
        "    \"Ficção de Gênero e Entretenimento\": [\n",
        "        \"Mystery\",\n",
        "        \"Thriller\",\n",
        "        \"Suspense\",\n",
        "        \"Horror\",\n",
        "        \"Romance\",\n",
        "        \"Fantasy\",\n",
        "        \"Science Fiction\",\n",
        "        \"Paranormal\",\n",
        "        \"Historical Fiction\",\n",
        "        \"Christian Fiction\",\n",
        "        \"Crime\",\n",
        "        \"Erotica\"\n",
        "    ],\n",
        "    \"Literatura Infantil e Juvenil\": [\n",
        "        \"Childrens\",\n",
        "        \"Young Adult\",\n",
        "        \"New Adult\"\n",
        "    ],\n",
        "    \"Biografia e Memórias\": [\n",
        "        \"Biography\",\n",
        "        \"Autobiography\"\n",
        "    ],\n",
        "    \"Ciências Humanas e Sociais\": [\n",
        "        \"Philosophy\",\n",
        "        \"Psychology\",\n",
        "        \"History\",\n",
        "        \"Politics\",\n",
        "        \"Cultural\",\n",
        "        \"Religion\",\n",
        "        \"Christian\",\n",
        "        \"Spirituality\",\n",
        "        \"Academic\"\n",
        "    ],\n",
        "    \"Autoajuda e Desenvolvimento Pessoal\": [\n",
        "        \"Self Help\",\n",
        "        \"Health\",\n",
        "        \"Parenting\",\n",
        "        \"Business\"\n",
        "    ],\n",
        "    \"Arte e Expressão Criativa\": [\n",
        "        \"Art\",\n",
        "        \"Sequential Art\",\n",
        "        \"Poetry\",\n",
        "        \"Music\",\n",
        "        \"Humor\"\n",
        "    ],\n",
        "    \"Estilo de Vida e Lazer\": [\n",
        "        \"Travel\",\n",
        "        \"Food and Drink\",\n",
        "        \"Sports and Games\"\n",
        "    ],\n",
        "    \"Não-Ficção Geral\": [\n",
        "        \"Nonfiction\",\n",
        "        \"Science\",\n",
        "        \"Historical\",\n",
        "        \"Default\"\n",
        "    ]\n",
        "}\n",
        "\n",
        "# Função pra agrupar as categorias\n",
        "def agrupa_categorias(categoria):\n",
        "    for grupo, categorias in categorias_livros.items():\n",
        "        if categoria in categorias:\n",
        "            return grupo\n",
        "    return None #Os livros como \"Uncategorized\" não vão aparecer\n",
        "\n",
        "#aplicando sobre o df\n",
        "df['Grupo'] = df['Categoria'].apply(agrupa_categorias)"
      ],
      "metadata": {
        "id": "w10_cifTQHLM"
      },
      "execution_count": null,
      "outputs": []
    },
    {
      "cell_type": "markdown",
      "source": [
        "Dessa forma, os livros sem categorias são removidos dessa análise"
      ],
      "metadata": {
        "id": "LYVCS6XUQnXq"
      }
    },
    {
      "cell_type": "code",
      "source": [
        "# contando os livros por grupo\n",
        "livros_por_grupo = df['Grupo'].value_counts()\n",
        "\n",
        "# plotando o gráfico mais conciso de grupos de categorias\n",
        "plt.figure(figsize=(12, 6))\n",
        "plt.bar(livros_por_grupo.index, livros_por_grupo.values, color=\"green\", alpha=0.7)\n",
        "plt.title(\"Total de Livros por Grupo de Categorias\")\n",
        "plt.xlabel(\"Grupos de Categorias\")\n",
        "plt.ylabel(\"Quantidade\")\n",
        "plt.xticks(rotation=45, ha=\"right\")\n",
        "plt.grid(axis=\"y\", alpha=0.7)\n",
        "plt.tight_layout()\n",
        "plt.show()"
      ],
      "metadata": {
        "id": "GQtFdPwGQq3V"
      },
      "execution_count": null,
      "outputs": []
    },
    {
      "cell_type": "markdown",
      "source": [
        "Analisando separadamente os livros como \"Uncategorized\""
      ],
      "metadata": {
        "id": "wUR_MixWQ250"
      }
    },
    {
      "cell_type": "code",
      "source": [
        "preco_dos_nao_categorizados = df[df[\"Categoria\"] == \"Uncategorized\"]\n",
        "preco_dos_nao_categorizados = preco_dos_nao_categorizados['Preço'].sort_values()\n",
        "preco_dos_nao_categorizados.describe().round(2)"
      ],
      "metadata": {
        "id": "640qIdU_Q6zc"
      },
      "execution_count": null,
      "outputs": []
    }
  ]
}